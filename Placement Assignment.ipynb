{
 "cells": [
  {
   "cell_type": "code",
   "execution_count": 22,
   "id": "89449b67",
   "metadata": {},
   "outputs": [
    {
     "name": "stdout",
     "output_type": "stream",
     "text": [
      "enter text to be replaced:Placement\n",
      "enter text that will replace:screening\n",
      "Text successfully replaced\n"
     ]
    }
   ],
   "source": [
    "\n",
    "x = input(\"enter text to be replaced:\")\n",
    "y = input(\"enter text that will replace:\")\n",
    "\n",
    "f = open(\"example.txt\", \"r+\")\n",
    "\n",
    "l = f.readlines()\n",
    "\n",
    "c = 0\n",
    "for i in l:\n",
    "    if x in i:\n",
    "\n",
    "        Replacement = i.replace(x, y)\n",
    "        l = Replacement\n",
    "    c += 1\n",
    "\n",
    "\n",
    "f.truncate(0)\n",
    "f.writelines(l)\n",
    "f.close()\n",
    "print(\"Text successfully replaced\")\n"
   ]
  },
  {
   "cell_type": "code",
   "execution_count": null,
   "id": "03eee95a",
   "metadata": {},
   "outputs": [],
   "source": []
  },
  {
   "cell_type": "code",
   "execution_count": null,
   "id": "94c629e0",
   "metadata": {},
   "outputs": [],
   "source": []
  }
 ],
 "metadata": {
  "kernelspec": {
   "display_name": "Python 3",
   "language": "python",
   "name": "python3"
  },
  "language_info": {
   "codemirror_mode": {
    "name": "ipython",
    "version": 3
   },
   "file_extension": ".py",
   "mimetype": "text/x-python",
   "name": "python",
   "nbconvert_exporter": "python",
   "pygments_lexer": "ipython3",
   "version": "3.8.8"
  }
 },
 "nbformat": 4,
 "nbformat_minor": 5
}
